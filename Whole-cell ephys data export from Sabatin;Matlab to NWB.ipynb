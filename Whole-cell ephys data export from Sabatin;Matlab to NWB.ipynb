{
 "cells": [
  {
   "cell_type": "markdown",
   "metadata": {},
   "source": [
    "Aaron's advice for storing whole cell data: \n",
    "\n",
    "instead of treating each aquisition separately, concatenate them into a single 1-dimensional array, and use the start time to separate them into epochs. For the current sabatini lab notion of epochs, we would actually use epoch series to group together groups of traces. \n",
    "\n",
    "This would then make it easier to lump together individual cells into a single NWB file - each cell would correspond to a single time series which could then be added to an experiment nwb file. \n",
    "\n",
    "-**Nick Cain suggests this is a bad idea, b/c it would put our whole-cell data at odds w/ how the Allen institute currently does it\n",
    "\n",
    "Alternatively, you could leave each acquisition separately, but use some timeseries that is the result of processing to link to an experiment nwb file. copy_file from HD5IO (and NWBHD5IO) see: http://pynwb.readthedocs.io/en/latest/tutorials/general/linking_data.html#sphx-glr-tutorials-general-linking-data-py"
   ]
  },
  {
   "cell_type": "markdown",
   "metadata": {},
   "source": [
    "### Script to bulk convert a single whole-cell recording to an NWB file"
   ]
  },
  {
   "cell_type": "markdown",
   "metadata": {},
   "source": [
    "#### Sabatini lab data format to export from\n",
    "###### .mat files included for each cell:\n",
    "1. AD#_# - a single acquisition, includes a 1xn data vector, plus associated metadata. First # indicates which channel. AD0 = channel 1, AD1 = channel 2. Can Also include AD2,3 for alternate inputs. For example, I often have AD2 be a copy of the voltage command from the amplifier to the headstage. The second # referes to acquisition number\n",
    "    1. x,y, and z scale. x-scale is samplign rate, usually    0.1 ms\n",
    "    2. UserData. Includes .mat name (e.g. 'AD0_1') and a long header string. Important paramters include:\n",
    "        1. epoch #\n",
    "        2. epoch name (typically empty)\n",
    "        3. basename for the cell (e.g. AG013018_1)\n",
    "        4. Pulse and Cycle name\n",
    "        5. Input and output rate (10000)\n",
    "        6. Gain\n",
    "        7. Cell paramters (Vm, Im, Rm, Rs, Cm\n",
    "        8. Break-in time (HH:MM::SS)\n",
    "        9. Start time of the acquisition (e.g. 0.166 minutes)\n",
    "        10. Flag for current clamp (0 is voltage clamp, 1 is current clamp)\n",
    "2. AD#_e#p#avg - an average of each epoch and pulse (e.g. AD0_e1p1avg). Same as a single acquisition, but also includes a .nComponents and .Components in the UserData, to indicate which acquisitions are included in each epoch\n",
    "3. physAcqTrace - just a list of the number of acquisitions\n",
    "4. physAcqTime - simple vector of the time in minutes corresponding to each acquisition\n",
    "5. A number of physCell .mat files corresponding to cell paramteres. e.g. physCellCm0, physCellRm0, etc..."
   ]
  },
  {
   "cell_type": "markdown",
   "metadata": {},
   "source": [
    "#### Corresponding nwb file groups:\n",
    "1. AD0_# or AD1_# ===> a single acquisition for each channel.\n",
    "2. AD2_# or AD3_# (or higher) ==> a single stimulus for each acquisition. May not be included in each cell\n",
    "2. AD#_e#p#avg ==> either analysis or processing, but also useful for extracting epoch information\n",
    "3. physAcqTrace ==> I think largely redundant, easy to extract total # of acqusitions\n",
    "4. physAcqTime ==> Time-series to constitute or recreate the timing between sweeps\n",
    "5. physCell parameters ==> processing"
   ]
  },
  {
   "cell_type": "code",
   "execution_count": 1,
   "metadata": {},
   "outputs": [
    {
     "name": "stderr",
     "output_type": "stream",
     "text": [
      "C:\\ProgramData\\Anaconda3\\lib\\site-packages\\h5py\\__init__.py:36: FutureWarning: Conversion of the second argument of issubdtype from `float` to `np.floating` is deprecated. In future, it will be treated as `np.float64 == np.dtype(float).type`.\n",
      "  from ._conv import register_converters as _register_converters\n"
     ]
    }
   ],
   "source": [
    "# Import python libraries\n",
    "import os\n",
    "import scipy.io as sio\n",
    "from datetime import datetime\n",
    "from pynwb import NWBFile\n",
    "from pynwb.icephys import VoltageClampSeries\n",
    "import numpy as np"
   ]
  },
  {
   "cell_type": "code",
   "execution_count": 4,
   "metadata": {},
   "outputs": [],
   "source": [
    "# Set directory for a cell\n",
    "## TO DO - user browse to folder that contains the .mat files for that cell\n",
    "cwd = os.getcwd()\n",
    "file_dir = cwd + '\\\\Example data\\\\Voltage clamp\\\\Endothelial cell voltage ramps\\\\013018_3\\\\'"
   ]
  },
  {
   "cell_type": "code",
   "execution_count": 5,
   "metadata": {},
   "outputs": [],
   "source": [
    "# Get a list of all .mat files --> Do I actually need this? May be useful to keep track of which acquisitions have been loaded\n",
    "mats_list = []\n",
    "files = os.listdir(file_dir)\n",
    "for file in files:\n",
    "    if file.endswith('.mat'):\n",
    "        mats_list.append(file)"
   ]
  },
  {
   "cell_type": "code",
   "execution_count": 6,
   "metadata": {},
   "outputs": [
    {
     "name": "stdout",
     "output_type": "stream",
     "text": [
      "AG013018_2\n"
     ]
    }
   ],
   "source": [
    "# Extract the basename\n",
    "##TO DO - load the temp_trace from the 1st .mat file, not AD0_1, since not all cells might have an AD0_1\n",
    "\n",
    "# load in physAcqTime and a dummy trace\n",
    "physAcqTime = sio.loadmat(file_dir+'physAcqTime.mat')['physAcqTime'][0] #get out a clean list of the acqusition times\n",
    "temp_trace = sio.loadmat(file_dir+'AD0_1.mat',struct_as_record = False)['AD0_1']\n",
    "\n",
    "# Get the header String - consider parsing this and converting to a dict. Each key starts w/ 'state', separated from value by '='\n",
    "headerString = temp_trace[0,0].UserData[0,0].headerString[0]\n",
    "\n",
    "#Extract the basename from headerstring - change this in the future to parse headerString as a dictionary\n",
    "ind_start = headerString.index('state.files.baseName')+22\n",
    "ind_finish = headerString[ind_start::].index(\"'\")\n",
    "basename = headerString[ind_start:ind_start+ind_finish]\n",
    "print(basename)"
   ]
  },
  {
   "cell_type": "code",
   "execution_count": 7,
   "metadata": {},
   "outputs": [],
   "source": [
    "# Create the NWB file \n",
    "## TO DO: extract the type of recording from the header string, for now just assume it's a voltage clamp trace\n",
    "nwbfile = NWBFile('source','session_description', basename, datetime.now(),\n",
    "                  #experimenter='Dr. Bilbo Baggins',\n",
    "                  #lab='Bag End Laboratory',\n",
    "                  #institution='University of Middle Earth at the Shire',\n",
    "                  #experiment_description='I went on an adventure with thirteen dwarves to reclaim vast treasures.',\n",
    "                  #session_id='LONELYMTN'\n",
    "                  )"
   ]
  },
  {
   "cell_type": "code",
   "execution_count": 8,
   "metadata": {},
   "outputs": [],
   "source": [
    "#Need to create device and electrode objects first - what is the purpose of these?\n",
    "\n",
    "#Create the device\n",
    "device = nwbfile.create_device(name='Axo patch 200b',source='a source')\n",
    "\n",
    "# Create an ic electrode object - why is this necessary?\n",
    "elec = nwbfile.create_ic_electrode(\n",
    "    name=\"elec0\", source='', slice='', resistance='', seal='', description='',\n",
    "    location='', filtering='', initial_access_resistance='', device=device.name)"
   ]
  },
  {
   "cell_type": "code",
   "execution_count": 9,
   "metadata": {},
   "outputs": [],
   "source": [
    "#Load in each acquisiion to the nwbfile\n",
    "acq_num = len(physAcqTime) #Get the number of acquisitions to load in\n",
    "\n",
    "#Start with just AD0 for now, add in AD1 option later - or maybe loop through all .mat files, and parse them to determine if they\n",
    "#go to acquisition of processing?\n",
    "for i in range(acq_num):\n",
    "    mat_name = 'AD0_' + str(i+1)\n",
    "    tmp = file_dir+mat_name+'.mat'\n",
    "    \n",
    "    #load in the acquisition structure\n",
    "    acq = sio.loadmat(file_dir+mat_name+'.mat',struct_as_record = False)[mat_name]\n",
    "    \n",
    "    # Create the voltage clamp series object\n",
    "    vcs = VoltageClampSeries(name=mat_name, \n",
    "                             source=\"AG\", \n",
    "                             data=acq[0,0].data[0],\n",
    "                             unit='pA', \n",
    "                             conversion=1.0, \n",
    "                             resolution=np.nan, \n",
    "                             starting_time=physAcqTime[i], \n",
    "                             rate=1e4,\n",
    "                             electrode=elec,\n",
    "                             gain=np.nan,\n",
    "                             capacitance_slow=np.nan,\n",
    "                             resistance_comp_correction=np.nan,\n",
    "                             capacitance_fast=np.nan,\n",
    "                             resistance_comp_bandwidth=np.nan,\n",
    "                             resistance_comp_prediction=np.nan,\n",
    "                             whole_cell_capacitance_comp=np.nan,\n",
    "                             whole_cell_series_resistance_comp=np.nan\n",
    "                            )\n",
    "\n",
    "    # Add the voltage clamp series object to the nwbfile\n",
    "    nwbfile.add_acquisition(vcs)\n",
    "    \n",
    "    "
   ]
  },
  {
   "cell_type": "code",
   "execution_count": 11,
   "metadata": {},
   "outputs": [
    {
     "data": {
      "image/png": "[encoded data removed]",
      "text/plain": [
       "<matplotlib.figure.Figure at 0x204d8837208>"
      ]
     },
     "metadata": {},
     "output_type": "display_data"
    }
   ],
   "source": [
    "#testing that all acquisitions are saved\n",
    "import matplotlib.pyplot as plt\n",
    "vcs_out = nwbfile.get_acquisition('AD0_79')\n",
    "\n",
    "plt.plot(vcs_out.data)\n",
    "plt.title(vcs_out.name)\n",
    "plt.ylabel(vcs_out.unit)\n",
    "\n",
    "plt.show()"
   ]
  },
  {
   "cell_type": "code",
   "execution_count": 9,
   "metadata": {},
   "outputs": [],
   "source": [
    "##TO DO: load in the epoch averages\n",
    "## extract the epoch info to NWB format\n",
    "## add in the physCell parameter traces"
   ]
  },
  {
   "cell_type": "code",
   "execution_count": 12,
   "metadata": {},
   "outputs": [],
   "source": [
    "# Write HDF5 file\n",
    "from pynwb import NWBHDF5IO\n",
    "\n",
    "with NWBHDF5IO(basename, mode='w') as io:\n",
    "    io.write(nwbfile)"
   ]
  },
  {
   "cell_type": "code",
   "execution_count": null,
   "metadata": {},
   "outputs": [],
   "source": []
  }
 ],
 "metadata": {
  "kernelspec": {
   "display_name": "Python 3",
   "language": "python",
   "name": "python3"
  },
  "language_info": {
   "codemirror_mode": {
    "name": "ipython",
    "version": 3
   },
   "file_extension": ".py",
   "mimetype": "text/x-python",
   "name": "python",
   "nbconvert_exporter": "python",
   "pygments_lexer": "ipython3",
   "version": "3.6.4"
  }
 },
 "nbformat": 4,
 "nbformat_minor": 2
}
